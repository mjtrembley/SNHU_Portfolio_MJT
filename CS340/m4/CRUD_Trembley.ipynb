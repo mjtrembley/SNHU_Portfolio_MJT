{
 "cells": [
  {
   "cell_type": "code",
   "execution_count": 1,
   "metadata": {},
   "outputs": [],
   "source": [
    "from CS340_m4_milestone_Trembley import CRUD_shelter as cs"
   ]
  },
  {
   "cell_type": "code",
   "execution_count": 2,
   "metadata": {},
   "outputs": [],
   "source": [
    "obj1 = cs(\"aacuser2\", \"meeko321\")\n",
    "data = {\"breed\":\"German Shepard\",\"color\":\"Black\",\"name\":\"Mufasa\"}"
   ]
  },
  {
   "cell_type": "code",
   "execution_count": 3,
   "metadata": {},
   "outputs": [
    {
     "name": "stdout",
     "output_type": "stream",
     "text": [
      "Data has been added\n"
     ]
    }
   ],
   "source": [
    "if obj1.create(data):\n",
    "    print(\"Data has been added\")\n",
    "else:\n",
    "    print(\"Error adding data\")"
   ]
  },
  {
   "cell_type": "code",
   "execution_count": 5,
   "metadata": {},
   "outputs": [
    {
     "name": "stdout",
     "output_type": "stream",
     "text": [
      "{'_id': ObjectId('62817fa022580ea7e083cf7c'), '': 2443, 'age_upon_outcome': '4 years', 'animal_id': 'A668972', 'animal_type': 'Dog', 'breed': 'Mastiff Mix', 'color': 'Black', 'date_of_birth': '2009-12-12', 'datetime': '2013-12-30 14:40:00', 'monthyear': '2013-12-30T14:40:00', 'name': 'Mufasa', 'outcome_subtype': 'Rabies Risk', 'outcome_type': 'Euthanasia', 'sex_upon_outcome': 'Intact Male', 'location_lat': 30.6800066815596, 'location_long': -97.4558614317114, 'age_upon_outcome_in_weeks': 211.373015873016}\n",
      "{'_id': ObjectId('62900a32796cbabaf9e9042f'), 'breed': 'German Shepard', 'color': 'Black', 'name': 'Mufasa'}\n"
     ]
    }
   ],
   "source": [
    "readData = obj1.read({\"name\":\"Mufasa\"})\n",
    "for k in readData:\n",
    "    print(k)"
   ]
  },
  {
   "cell_type": "code",
   "execution_count": null,
   "metadata": {},
   "outputs": [],
   "source": []
  }
 ],
 "metadata": {
  "kernelspec": {
   "display_name": "Python 3",
   "language": "python",
   "name": "python3"
  },
  "language_info": {
   "codemirror_mode": {
    "name": "ipython",
    "version": 3
   },
   "file_extension": ".py",
   "mimetype": "text/x-python",
   "name": "python",
   "nbconvert_exporter": "python",
   "pygments_lexer": "ipython3",
   "version": "3.6.9"
  }
 },
 "nbformat": 4,
 "nbformat_minor": 2
}
